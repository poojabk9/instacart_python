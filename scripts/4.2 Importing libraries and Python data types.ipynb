{
 "cells": [
  {
   "cell_type": "markdown",
   "id": "7c8086fc",
   "metadata": {},
   "source": [
    "# 01. Importing libraries"
   ]
  },
  {
   "cell_type": "code",
   "execution_count": 1,
   "id": "399ae7a7",
   "metadata": {},
   "outputs": [],
   "source": [
    "# Import Libraries\n",
    "import pandas as pd\n",
    "import numpy as np\n",
    "import os"
   ]
  },
  {
   "cell_type": "markdown",
   "id": "954b40c7",
   "metadata": {},
   "source": [
    "# Python Data types"
   ]
  },
  {
   "cell_type": "code",
   "execution_count": 2,
   "id": "18d27f57",
   "metadata": {},
   "outputs": [],
   "source": [
    "# Integer\n",
    "x = 2"
   ]
  },
  {
   "cell_type": "code",
   "execution_count": 3,
   "id": "da103a13",
   "metadata": {},
   "outputs": [
    {
     "data": {
      "text/plain": [
       "2"
      ]
     },
     "execution_count": 3,
     "metadata": {},
     "output_type": "execute_result"
    }
   ],
   "source": [
    "x"
   ]
  },
  {
   "cell_type": "code",
   "execution_count": 4,
   "id": "122a7ee2",
   "metadata": {},
   "outputs": [
    {
     "name": "stdout",
     "output_type": "stream",
     "text": [
      "2\n"
     ]
    }
   ],
   "source": [
    "print(x)"
   ]
  },
  {
   "cell_type": "code",
   "execution_count": 5,
   "id": "71ee9540",
   "metadata": {},
   "outputs": [
    {
     "data": {
      "text/plain": [
       "int"
      ]
     },
     "execution_count": 5,
     "metadata": {},
     "output_type": "execute_result"
    }
   ],
   "source": [
    "type(x)"
   ]
  },
  {
   "cell_type": "code",
   "execution_count": 7,
   "id": "bee4fb87",
   "metadata": {},
   "outputs": [],
   "source": [
    "# Float\n",
    "y = 5.46"
   ]
  },
  {
   "cell_type": "code",
   "execution_count": 8,
   "id": "cdab7a8b",
   "metadata": {},
   "outputs": [
    {
     "data": {
      "text/plain": [
       "5.46"
      ]
     },
     "execution_count": 8,
     "metadata": {},
     "output_type": "execute_result"
    }
   ],
   "source": [
    "y"
   ]
  },
  {
   "cell_type": "code",
   "execution_count": 9,
   "id": "7b9c3882",
   "metadata": {},
   "outputs": [
    {
     "data": {
      "text/plain": [
       "float"
      ]
     },
     "execution_count": 9,
     "metadata": {},
     "output_type": "execute_result"
    }
   ],
   "source": [
    "type(y)"
   ]
  },
  {
   "cell_type": "code",
   "execution_count": 10,
   "id": "812de0d1",
   "metadata": {},
   "outputs": [],
   "source": [
    "# String\n",
    "z = 'India'"
   ]
  },
  {
   "cell_type": "code",
   "execution_count": 11,
   "id": "6620eb09",
   "metadata": {},
   "outputs": [
    {
     "data": {
      "text/plain": [
       "str"
      ]
     },
     "execution_count": 11,
     "metadata": {},
     "output_type": "execute_result"
    }
   ],
   "source": [
    "type(z)"
   ]
  },
  {
   "cell_type": "code",
   "execution_count": 13,
   "id": "c24ef9e6",
   "metadata": {},
   "outputs": [
    {
     "data": {
      "text/plain": [
       "str"
      ]
     },
     "execution_count": 13,
     "metadata": {},
     "output_type": "execute_result"
    }
   ],
   "source": [
    "type(\"hello\")"
   ]
  },
  {
   "cell_type": "code",
   "execution_count": 15,
   "id": "4b7cd6a5",
   "metadata": {},
   "outputs": [
    {
     "data": {
      "text/plain": [
       "bool"
      ]
     },
     "execution_count": 15,
     "metadata": {},
     "output_type": "execute_result"
    }
   ],
   "source": [
    "# Boolean\n",
    "type(True)"
   ]
  },
  {
   "cell_type": "markdown",
   "id": "e664e73e",
   "metadata": {},
   "source": [
    "## 3 different ways of reaching a result of 100 by adding or subtracting numeric variables."
   ]
  },
  {
   "cell_type": "code",
   "execution_count": 16,
   "id": "57d4ee57",
   "metadata": {},
   "outputs": [],
   "source": [
    "# 1st method\n",
    "a = 50\n",
    "b = 60\n",
    "c = 10"
   ]
  },
  {
   "cell_type": "code",
   "execution_count": 17,
   "id": "cdb53ca8",
   "metadata": {},
   "outputs": [
    {
     "name": "stdout",
     "output_type": "stream",
     "text": [
      "100\n"
     ]
    }
   ],
   "source": [
    "result_1 = a + b - c\n",
    "print(result_1)"
   ]
  },
  {
   "cell_type": "code",
   "execution_count": 18,
   "id": "9c43c253",
   "metadata": {},
   "outputs": [
    {
     "name": "stdout",
     "output_type": "stream",
     "text": [
      "100\n"
     ]
    }
   ],
   "source": [
    "# 2nd method\n",
    "result_2 = 150 - 50\n",
    "print(result_2)"
   ]
  },
  {
   "cell_type": "code",
   "execution_count": 19,
   "id": "5875c42c",
   "metadata": {},
   "outputs": [
    {
     "name": "stdout",
     "output_type": "stream",
     "text": [
      "100\n"
     ]
    }
   ],
   "source": [
    "# 3rd method\n",
    "x = 20\n",
    "y = 90\n",
    "z = 10\n",
    "print(x + y - z)"
   ]
  },
  {
   "cell_type": "markdown",
   "id": "cacb8694",
   "metadata": {},
   "source": [
    "## Code 2 floating-point variables and divide them by each other."
   ]
  },
  {
   "cell_type": "code",
   "execution_count": 20,
   "id": "1ab2730f",
   "metadata": {},
   "outputs": [],
   "source": [
    "a = 10.2\n",
    "b = 2"
   ]
  },
  {
   "cell_type": "code",
   "execution_count": 21,
   "id": "5b46d25b",
   "metadata": {},
   "outputs": [
    {
     "name": "stdout",
     "output_type": "stream",
     "text": [
      "5.1\n"
     ]
    }
   ],
   "source": [
    "result_3 = a / 2\n",
    "print(result_3)"
   ]
  },
  {
   "cell_type": "markdown",
   "id": "2a973736",
   "metadata": {},
   "source": [
    "## Construct a short word made of separate strings."
   ]
  },
  {
   "cell_type": "code",
   "execution_count": 23,
   "id": "5704a244",
   "metadata": {},
   "outputs": [
    {
     "name": "stdout",
     "output_type": "stream",
     "text": [
      "CareerFoundry!\n"
     ]
    }
   ],
   "source": [
    "a = 'Career'\n",
    "b = 'Foundry!'\n",
    "\n",
    "result = a + b\n",
    "print(result)"
   ]
  },
  {
   "cell_type": "markdown",
   "id": "4fb66e59",
   "metadata": {},
   "source": [
    "## Construct 2 short sentences made of separate strings."
   ]
  },
  {
   "cell_type": "code",
   "execution_count": 24,
   "id": "36fa7b0d",
   "metadata": {},
   "outputs": [],
   "source": [
    "a = 'Hello'\n",
    "b = 'World!'\n",
    "c = 'Python'\n",
    "d = 'is'\n",
    "e = 'Fun!!!'\n",
    "f = ' '\n",
    "\n",
    "sentence_1 = a + f + b\n",
    "sentence_2 = c + f + d + f + e"
   ]
  },
  {
   "cell_type": "code",
   "execution_count": 25,
   "id": "205ee347",
   "metadata": {},
   "outputs": [
    {
     "name": "stdout",
     "output_type": "stream",
     "text": [
      "Hello World!\n",
      "Python is Fun!!!\n"
     ]
    }
   ],
   "source": [
    "print(sentence_1)\n",
    "print(sentence_2)"
   ]
  },
  {
   "cell_type": "markdown",
   "id": "3bca838c",
   "metadata": {},
   "source": [
    "## Bonus Task"
   ]
  },
  {
   "cell_type": "code",
   "execution_count": 26,
   "id": "04079712",
   "metadata": {},
   "outputs": [],
   "source": [
    "string1 = 'Hello World!'\n",
    "result = 100 * string1"
   ]
  },
  {
   "cell_type": "code",
   "execution_count": 27,
   "id": "b2135f60",
   "metadata": {},
   "outputs": [
    {
     "name": "stdout",
     "output_type": "stream",
     "text": [
      "Hello World!Hello World!Hello World!Hello World!Hello World!Hello World!Hello World!Hello World!Hello World!Hello World!Hello World!Hello World!Hello World!Hello World!Hello World!Hello World!Hello World!Hello World!Hello World!Hello World!Hello World!Hello World!Hello World!Hello World!Hello World!Hello World!Hello World!Hello World!Hello World!Hello World!Hello World!Hello World!Hello World!Hello World!Hello World!Hello World!Hello World!Hello World!Hello World!Hello World!Hello World!Hello World!Hello World!Hello World!Hello World!Hello World!Hello World!Hello World!Hello World!Hello World!Hello World!Hello World!Hello World!Hello World!Hello World!Hello World!Hello World!Hello World!Hello World!Hello World!Hello World!Hello World!Hello World!Hello World!Hello World!Hello World!Hello World!Hello World!Hello World!Hello World!Hello World!Hello World!Hello World!Hello World!Hello World!Hello World!Hello World!Hello World!Hello World!Hello World!Hello World!Hello World!Hello World!Hello World!Hello World!Hello World!Hello World!Hello World!Hello World!Hello World!Hello World!Hello World!Hello World!Hello World!Hello World!Hello World!Hello World!Hello World!Hello World!Hello World!\n"
     ]
    }
   ],
   "source": [
    "print(result)"
   ]
  },
  {
   "cell_type": "code",
   "execution_count": null,
   "id": "311fe2c7",
   "metadata": {},
   "outputs": [],
   "source": []
  }
 ],
 "metadata": {
  "kernelspec": {
   "display_name": "Python 3 (ipykernel)",
   "language": "python",
   "name": "python3"
  },
  "language_info": {
   "codemirror_mode": {
    "name": "ipython",
    "version": 3
   },
   "file_extension": ".py",
   "mimetype": "text/x-python",
   "name": "python",
   "nbconvert_exporter": "python",
   "pygments_lexer": "ipython3",
   "version": "3.11.5"
  }
 },
 "nbformat": 4,
 "nbformat_minor": 5
}
